{
 "cells": [
  {
   "cell_type": "markdown",
   "metadata": {},
   "source": [
    "### Import Files"
   ]
  },
  {
   "cell_type": "code",
   "execution_count": 1,
   "metadata": {},
   "outputs": [
    {
     "name": "stderr",
     "output_type": "stream",
     "text": [
      "C:\\Users\\XiXi\\anaconda3\\lib\\site-packages\\IPython\\core\\interactiveshell.py:3063: DtypeWarning: Columns (33) have mixed types.Specify dtype option on import or set low_memory=False.\n",
      "  interactivity=interactivity, compiler=compiler, result=result)\n"
     ]
    }
   ],
   "source": [
    "import pandas as pd\n",
    "import numpy as np\n",
    "import matplotlib.pyplot as plt\n",
    "raw= pd.read_csv('Data-Collisions.csv')"
   ]
  },
  {
   "cell_type": "markdown",
   "metadata": {},
   "source": [
    "### Data Cleaning"
   ]
  },
  {
   "cell_type": "code",
   "execution_count": 2,
   "metadata": {},
   "outputs": [
    {
     "name": "stderr",
     "output_type": "stream",
     "text": [
      "C:\\Users\\XiXi\\anaconda3\\lib\\site-packages\\pandas\\core\\frame.py:4172: SettingWithCopyWarning: \n",
      "A value is trying to be set on a copy of a slice from a DataFrame\n",
      "\n",
      "See the caveats in the documentation: https://pandas.pydata.org/pandas-docs/stable/user_guide/indexing.html#returning-a-view-versus-a-copy\n",
      "  method=method,\n"
     ]
    },
    {
     "name": "stdout",
     "output_type": "stream",
     "text": [
      "SEVERITYCODE\n",
      "False    194673\n",
      "Name: SEVERITYCODE, dtype: int64\n",
      "\n",
      "ADDRTYPE\n",
      "False    192747\n",
      "True       1926\n",
      "Name: ADDRTYPE, dtype: int64\n",
      "\n",
      "WEATHER\n",
      "False    189592\n",
      "True       5081\n",
      "Name: WEATHER, dtype: int64\n",
      "\n",
      "ROADCOND\n",
      "False    189661\n",
      "True       5012\n",
      "Name: ROADCOND, dtype: int64\n",
      "\n",
      "LIGHTCOND\n",
      "False    189503\n",
      "True       5170\n",
      "Name: LIGHTCOND, dtype: int64\n",
      "\n",
      "SPEEDING\n",
      "True     185340\n",
      "False      9333\n",
      "Name: SPEEDING, dtype: int64\n",
      "\n"
     ]
    }
   ],
   "source": [
    "# Select Columns needed for analysis\n",
    "df = raw[['SEVERITYCODE','ADDRTYPE','WEATHER','ROADCOND','LIGHTCOND','SPEEDING']]\n",
    "\n",
    "# Dealing with missing data\n",
    "df.replace('?',np.nan, inplace=True)\n",
    "\n",
    "missing=df.isnull()\n",
    "\n",
    "for column in missing.columns.values.tolist():\n",
    "    print(column)\n",
    "    print(missing[column].value_counts())\n",
    "    print(\"\")\n",
    "\n",
    "# we can drop the rows with NAN value because it only consists of less than 4% of our data"
   ]
  },
  {
   "cell_type": "code",
   "execution_count": 3,
   "metadata": {},
   "outputs": [
    {
     "name": "stderr",
     "output_type": "stream",
     "text": [
      "C:\\Users\\XiXi\\anaconda3\\lib\\site-packages\\ipykernel_launcher.py:1: SettingWithCopyWarning: \n",
      "A value is trying to be set on a copy of a slice from a DataFrame\n",
      "\n",
      "See the caveats in the documentation: https://pandas.pydata.org/pandas-docs/stable/user_guide/indexing.html#returning-a-view-versus-a-copy\n",
      "  \"\"\"Entry point for launching an IPython kernel.\n"
     ]
    }
   ],
   "source": [
    "df.dropna(subset=['ADDRTYPE','WEATHER','ROADCOND','LIGHTCOND'],axis=0,inplace=True)"
   ]
  },
  {
   "cell_type": "code",
   "execution_count": 4,
   "metadata": {},
   "outputs": [
    {
     "name": "stdout",
     "output_type": "stream",
     "text": [
      "SEVERITYCODE\n",
      "1    130642\n",
      "2     56883\n",
      "Name: SEVERITYCODE, dtype: int64\n",
      "\n",
      "ADDRTYPE\n",
      "Block           123321\n",
      "Intersection     63462\n",
      "Alley              742\n",
      "Name: ADDRTYPE, dtype: int64\n",
      "\n",
      "WEATHER\n",
      "Clear                       110499\n",
      "Raining                      32976\n",
      "Overcast                     27551\n",
      "Unknown                      14059\n",
      "Snowing                        896\n",
      "Other                          790\n",
      "Fog/Smog/Smoke                 563\n",
      "Sleet/Hail/Freezing Rain       112\n",
      "Blowing Sand/Dirt               49\n",
      "Severe Crosswind                25\n",
      "Partly Cloudy                    5\n",
      "Name: WEATHER, dtype: int64\n",
      "\n",
      "ROADCOND\n",
      "Dry               123736\n",
      "Wet                47223\n",
      "Unknown            14009\n",
      "Ice                 1193\n",
      "Snow/Slush           992\n",
      "Other                124\n",
      "Standing Water       111\n",
      "Sand/Mud/Dirt         73\n",
      "Oil                   64\n",
      "Name: ROADCOND, dtype: int64\n",
      "\n",
      "LIGHTCOND\n",
      "Daylight                    115408\n",
      "Dark - Street Lights On      48236\n",
      "Unknown                      12599\n",
      "Dusk                          5843\n",
      "Dawn                          2491\n",
      "Dark - No Street Lights       1526\n",
      "Dark - Street Lights Off      1184\n",
      "Other                          227\n",
      "Dark - Unknown Lighting         11\n",
      "Name: LIGHTCOND, dtype: int64\n",
      "\n",
      "SPEEDING\n",
      "Y    9266\n",
      "Name: SPEEDING, dtype: int64\n",
      "\n"
     ]
    }
   ],
   "source": [
    "for column in df.columns.values.tolist():\n",
    "    print(column)\n",
    "    print(df[column].value_counts())\n",
    "    print(\"\")\n"
   ]
  },
  {
   "cell_type": "markdown",
   "metadata": {},
   "source": [
    "## Balancing the dataset\n"
   ]
  },
  {
   "cell_type": "code",
   "execution_count": 5,
   "metadata": {},
   "outputs": [
    {
     "data": {
      "text/plain": [
       "2    56883\n",
       "1    56883\n",
       "Name: SEVERITYCODE, dtype: int64"
      ]
     },
     "execution_count": 5,
     "metadata": {},
     "output_type": "execute_result"
    }
   ],
   "source": [
    "from sklearn.utils import resample\n",
    "\n",
    "df_maj = df[df.SEVERITYCODE==1]\n",
    "df_min = df[df.SEVERITYCODE == 2]\n",
    "resample_df = resample(df_maj,replace=False,n_samples=56883,random_state=123)\n",
    "\n",
    "new_df = pd.concat([resample_df,df_min])\n",
    "new_df.SEVERITYCODE.value_counts()"
   ]
  },
  {
   "cell_type": "markdown",
   "metadata": {},
   "source": [
    "## VALUE COUNTS\n"
   ]
  },
  {
   "cell_type": "code",
   "execution_count": 6,
   "metadata": {},
   "outputs": [
    {
     "name": "stdout",
     "output_type": "stream",
     "text": [
      "SEVERITYCODE\n",
      "2    56883\n",
      "1    56883\n",
      "Name: SEVERITYCODE, dtype: int64\n",
      "\n",
      "ADDRTYPE\n",
      "Block           70332\n",
      "Intersection    43062\n",
      "Alley             372\n",
      "Name: ADDRTYPE, dtype: int64\n",
      "\n",
      "WEATHER\n",
      "Clear                       68126\n",
      "Raining                     20696\n",
      "Overcast                    16907\n",
      "Unknown                      6660\n",
      "Snowing                       488\n",
      "Other                         418\n",
      "Fog/Smog/Smoke                364\n",
      "Sleet/Hail/Freezing Rain       65\n",
      "Blowing Sand/Dirt              23\n",
      "Severe Crosswind               16\n",
      "Partly Cloudy                   3\n",
      "Name: WEATHER, dtype: int64\n",
      "\n",
      "ROADCOND\n",
      "Dry               76243\n",
      "Wet               29541\n",
      "Unknown            6580\n",
      "Ice                 658\n",
      "Snow/Slush          513\n",
      "Other                80\n",
      "Standing Water       68\n",
      "Sand/Mud/Dirt        49\n",
      "Oil                  34\n",
      "Name: ROADCOND, dtype: int64\n",
      "\n",
      "LIGHTCOND\n",
      "Daylight                    71766\n",
      "Dark - Street Lights On     29238\n",
      "Unknown                      5936\n",
      "Dusk                         3618\n",
      "Dawn                         1564\n",
      "Dark - No Street Lights       828\n",
      "Dark - Street Lights Off      692\n",
      "Other                         116\n",
      "Dark - Unknown Lighting         8\n",
      "Name: LIGHTCOND, dtype: int64\n",
      "\n",
      "SPEEDING\n",
      "Y    5992\n",
      "Name: SPEEDING, dtype: int64\n",
      "\n"
     ]
    }
   ],
   "source": [
    "for column in new_df.columns.values.tolist():\n",
    "    print(column)\n",
    "    print(new_df[column].value_counts())\n",
    "    print(\"\")\n"
   ]
  },
  {
   "cell_type": "markdown",
   "metadata": {},
   "source": [
    "### Preprocessing the data\n",
    "Replace Catergorical values to numeric values"
   ]
  },
  {
   "cell_type": "code",
   "execution_count": 7,
   "metadata": {},
   "outputs": [],
   "source": [
    "new_df['ADDRTYPE'].replace(to_replace=['Block',\n",
    "                                       'Intersection',\n",
    "                                       'Alley'],value=[1,2,3],inplace=True)\n",
    "new_df['WEATHER'].replace(to_replace=['Clear',\n",
    "                                      'Raining',\n",
    "                                      'Overcast',\n",
    "                                      'Partly Cloudy',\n",
    "                                      'Snowing', \n",
    "                                      'Fog/Smog/Smoke',\n",
    "                                      'Sleet/Hail/Freezing Rain',\n",
    "                                      'Blowing Sand/Dirt',\n",
    "                                      'Severe Crosswind',\n",
    "                                      'Other','Unknown'],value=[1,2,3,3,4,5,6,7,8,9,10],inplace=True)\n",
    "new_df['ROADCOND'].replace(to_replace=['Dry',\n",
    "                                       'Sand/Mud/Dirt',\n",
    "                                       'Wet','Standing Water',\n",
    "                                       'Ice','Snow/Slush',\n",
    "                                       'Other','Oil','Unknown'],value=[1,1,2,2,3,4,5,5,6],inplace=True)\n",
    "new_df['LIGHTCOND'].replace(to_replace=['Daylight',\n",
    "                                        'Dark - Street Lights On',\n",
    "                                        'Dark - No Street Lights',\n",
    "                                        'Dark - Street Lights Off',\n",
    "                                        'Dusk','Dawn',\n",
    "                                        'Other','Unknown',\n",
    "                                        'Dark - Unknown Lighting'],value=[1,2,3,3,4,5,6,7,7],inplace=True)\n"
   ]
  },
  {
   "cell_type": "code",
   "execution_count": 8,
   "metadata": {},
   "outputs": [
    {
     "name": "stdout",
     "output_type": "stream",
     "text": [
      "SEVERITYCODE\n",
      "2    56883\n",
      "1    56883\n",
      "Name: SEVERITYCODE, dtype: int64\n",
      "\n",
      "ADDRTYPE\n",
      "1    70332\n",
      "2    43062\n",
      "3      372\n",
      "Name: ADDRTYPE, dtype: int64\n",
      "\n",
      "WEATHER\n",
      "1     68126\n",
      "2     20696\n",
      "3     16910\n",
      "10     6660\n",
      "4       488\n",
      "9       418\n",
      "5       364\n",
      "6        65\n",
      "7        23\n",
      "8        16\n",
      "Name: WEATHER, dtype: int64\n",
      "\n",
      "ROADCOND\n",
      "1    76292\n",
      "2    29609\n",
      "6     6580\n",
      "3      658\n",
      "4      513\n",
      "5      114\n",
      "Name: ROADCOND, dtype: int64\n",
      "\n",
      "LIGHTCOND\n",
      "1    71766\n",
      "2    29238\n",
      "7     5944\n",
      "4     3618\n",
      "5     1564\n",
      "3     1520\n",
      "6      116\n",
      "Name: LIGHTCOND, dtype: int64\n",
      "\n",
      "SPEEDING\n",
      "Y    5992\n",
      "Name: SPEEDING, dtype: int64\n",
      "\n"
     ]
    }
   ],
   "source": [
    "for column in new_df.columns.values.tolist():\n",
    "    print(column)\n",
    "    print(new_df[column].value_counts())\n",
    "    print(\"\")"
   ]
  },
  {
   "cell_type": "code",
   "execution_count": null,
   "metadata": {},
   "outputs": [],
   "source": []
  },
  {
   "cell_type": "markdown",
   "metadata": {},
   "source": [
    "## Feature Selection"
   ]
  },
  {
   "cell_type": "code",
   "execution_count": 9,
   "metadata": {},
   "outputs": [],
   "source": [
    "# SPEEDING is not included due to limited data points\n",
    "x = new_df[['ADDRTYPE','WEATHER','ROADCOND','LIGHTCOND']]\n",
    "y = new_df['SEVERITYCODE']\n"
   ]
  },
  {
   "cell_type": "markdown",
   "metadata": {},
   "source": [
    "Preprocessing"
   ]
  },
  {
   "cell_type": "code",
   "execution_count": 10,
   "metadata": {},
   "outputs": [],
   "source": [
    "from sklearn import preprocessing\n",
    "x = preprocessing.StandardScaler().fit(x).transform(x)"
   ]
  },
  {
   "cell_type": "markdown",
   "metadata": {},
   "source": [
    "Split the data"
   ]
  },
  {
   "cell_type": "code",
   "execution_count": 11,
   "metadata": {},
   "outputs": [],
   "source": [
    "from sklearn.model_selection import train_test_split\n",
    "x_train, x_test, y_train, y_test = train_test_split(x,y,test_size=0.2, random_state=4)"
   ]
  },
  {
   "cell_type": "markdown",
   "metadata": {},
   "source": [
    "## Machine Learning"
   ]
  },
  {
   "cell_type": "code",
   "execution_count": 12,
   "metadata": {},
   "outputs": [],
   "source": [
    "from sklearn.metrics import jaccard_similarity_score\n",
    "from sklearn.metrics import f1_score\n",
    "from sklearn.metrics import log_loss"
   ]
  },
  {
   "cell_type": "markdown",
   "metadata": {},
   "source": [
    "### KNN"
   ]
  },
  {
   "cell_type": "code",
   "execution_count": 13,
   "metadata": {},
   "outputs": [],
   "source": [
    "from sklearn.neighbors import KNeighborsClassifier\n",
    "KNN = KNeighborsClassifier(n_neighbors=18).fit(x_train,y_train)\n",
    "yhat_knn = KNN.predict(x_test)\n"
   ]
  },
  {
   "cell_type": "code",
   "execution_count": 14,
   "metadata": {},
   "outputs": [
    {
     "data": {
      "text/plain": [
       "0.5973894699832997"
      ]
     },
     "execution_count": 14,
     "metadata": {},
     "output_type": "execute_result"
    }
   ],
   "source": [
    "from sklearn import metrics\n",
    "\n",
    "metrics.accuracy_score(y_test,yhat_knn)\n"
   ]
  },
  {
   "cell_type": "code",
   "execution_count": 15,
   "metadata": {},
   "outputs": [
    {
     "data": {
      "image/png": "[encoded data removed]",
      "text/plain": [
       "<Figure size 432x288 with 1 Axes>"
      ]
     },
     "metadata": {
      "needs_background": "light"
     },
     "output_type": "display_data"
    },
    {
     "name": "stdout",
     "output_type": "stream",
     "text": [
      "The best k= 18\n"
     ]
    }
   ],
   "source": [
    "# Find the best value for k \n",
    "Ks=30\n",
    "mean_acc = np.zeros((Ks-1))\n",
    "std_acc = np.zeros((Ks-1))\n",
    "ConfustionMx = [];\n",
    "for n in range (1, Ks):\n",
    "    KNN = KNeighborsClassifier(n_neighbors = n).fit(x_train,y_train)\n",
    "    yhat_knn = KNN.predict(x_test)\n",
    "    mean_acc[n-1] = metrics.accuracy_score(y_test,yhat_knn)\n",
    "    std_acc[n-1]=np.std(yhat_knn==y_test)/np.sqrt(yhat_knn.shape[0])\n",
    "mean_acc\n",
    "\n",
    "# visualize k\n",
    "plt.plot(range(1,Ks),mean_acc,'g')\n",
    "plt.fill_between(range(1,Ks),mean_acc-1*std_acc,mean_acc+1*std_acc,alpha=0.1)\n",
    "plt.legend(('Accuracy','+/- 3xstd'))\n",
    "plt.ylabel('Accuracy')\n",
    "plt.xlabel('Number of Nabors (K)')\n",
    "plt.tight_layout()\n",
    "plt.show()\n",
    "\n",
    "print('The best k=',mean_acc.argmax()+1)"
   ]
  },
  {
   "cell_type": "code",
   "execution_count": 15,
   "metadata": {},
   "outputs": [
    {
     "name": "stdout",
     "output_type": "stream",
     "text": [
      "Jaccard Score= 0.5973894699832997\n",
      "f1= 0.5923219328380459\n"
     ]
    },
    {
     "name": "stderr",
     "output_type": "stream",
     "text": [
      "C:\\Users\\XiXi\\anaconda3\\lib\\site-packages\\sklearn\\metrics\\_classification.py:664: FutureWarning: jaccard_similarity_score has been deprecated and replaced with jaccard_score. It will be removed in version 0.23. This implementation has surprising behavior for binary and multiclass classification tasks.\n",
      "  FutureWarning)\n"
     ]
    }
   ],
   "source": [
    "# Jaccard_similarity Score\n",
    "KNN_J = jaccard_similarity_score(y_test,yhat_knn)\n",
    "KNN_f1 = f1_score(y_test,yhat_knn,average='weighted')\n",
    "\n",
    "print('Jaccard Score=',KNN_J)\n",
    "print('f1=',KNN_f1)"
   ]
  },
  {
   "cell_type": "markdown",
   "metadata": {},
   "source": [
    "## Decision Tree"
   ]
  },
  {
   "cell_type": "code",
   "execution_count": 16,
   "metadata": {},
   "outputs": [
    {
     "data": {
      "text/plain": [
       "array([2, 1, 2, ..., 1, 2, 2], dtype=int64)"
      ]
     },
     "execution_count": 16,
     "metadata": {},
     "output_type": "execute_result"
    }
   ],
   "source": [
    "from sklearn.tree import DecisionTreeClassifier\n",
    "DT=DecisionTreeClassifier(criterion='entropy',max_depth=None)\n",
    "DT.fit(x_train,y_train)\n",
    "yhat_DT= DT.predict(x_test)\n",
    "yhat_DT"
   ]
  },
  {
   "cell_type": "code",
   "execution_count": 17,
   "metadata": {},
   "outputs": [
    {
     "name": "stdout",
     "output_type": "stream",
     "text": [
      "Jaccard Score= 0.6002900588907445\n",
      "f1= 0.5936774839746147\n"
     ]
    },
    {
     "name": "stderr",
     "output_type": "stream",
     "text": [
      "C:\\Users\\XiXi\\anaconda3\\lib\\site-packages\\sklearn\\metrics\\_classification.py:664: FutureWarning: jaccard_similarity_score has been deprecated and replaced with jaccard_score. It will be removed in version 0.23. This implementation has surprising behavior for binary and multiclass classification tasks.\n",
      "  FutureWarning)\n"
     ]
    }
   ],
   "source": [
    "# Jaccard_similarity Score\n",
    "DT_J = jaccard_similarity_score(y_test,yhat_DT)\n",
    "\n",
    "# F1\n",
    "DT_f1 = f1_score(y_test,yhat_DT,average='weighted')\n",
    "\n",
    "print('Jaccard Score=',DT_J)\n",
    "print('f1=',DT_f1)"
   ]
  },
  {
   "cell_type": "markdown",
   "metadata": {},
   "source": [
    "## SVM"
   ]
  },
  {
   "cell_type": "code",
   "execution_count": 18,
   "metadata": {},
   "outputs": [],
   "source": [
    "from sklearn.svm import SVC\n",
    "clf = SVC(kernel='rbf')\n",
    "clf.fit(x_train,y_train)\n",
    "\n",
    "yhat_svm=clf.predict(x_test)\n"
   ]
  },
  {
   "cell_type": "code",
   "execution_count": 19,
   "metadata": {},
   "outputs": [
    {
     "name": "stdout",
     "output_type": "stream",
     "text": [
      "Jaccard Score= 0.6014766634437901\n",
      "f1= 0.5946649034817163\n"
     ]
    },
    {
     "name": "stderr",
     "output_type": "stream",
     "text": [
      "C:\\Users\\XiXi\\anaconda3\\lib\\site-packages\\sklearn\\metrics\\_classification.py:664: FutureWarning: jaccard_similarity_score has been deprecated and replaced with jaccard_score. It will be removed in version 0.23. This implementation has surprising behavior for binary and multiclass classification tasks.\n",
      "  FutureWarning)\n"
     ]
    }
   ],
   "source": [
    "# Jaccard_similarity Score\n",
    "SVM_J = jaccard_similarity_score(y_test,yhat_svm)\n",
    "\n",
    "# F1\n",
    "SVM_f1 = f1_score(y_test,yhat_svm,average='weighted')\n",
    "\n",
    "print('Jaccard Score=',SVM_J)\n",
    "print('f1=',SVM_f1)"
   ]
  },
  {
   "cell_type": "markdown",
   "metadata": {},
   "source": [
    "## Logistic Regression"
   ]
  },
  {
   "cell_type": "code",
   "execution_count": 20,
   "metadata": {},
   "outputs": [],
   "source": [
    "from sklearn.linear_model import LogisticRegression\n",
    "LR=LogisticRegression(C=0.01, solver = 'liblinear')\n",
    "LR.fit(x_train,y_train)\n",
    "yhat_LR=LR.predict(x_test)\n",
    "\n",
    "yhat_prob = LR.predict_proba(x_test)\n"
   ]
  },
  {
   "cell_type": "code",
   "execution_count": 21,
   "metadata": {},
   "outputs": [
    {
     "name": "stdout",
     "output_type": "stream",
     "text": [
      "Jaccard Score= 0.598839764437022\n",
      "f1= 0.5915895936596657\n",
      "LogLoss= 0.6560093562217645\n"
     ]
    },
    {
     "name": "stderr",
     "output_type": "stream",
     "text": [
      "C:\\Users\\XiXi\\anaconda3\\lib\\site-packages\\sklearn\\metrics\\_classification.py:664: FutureWarning: jaccard_similarity_score has been deprecated and replaced with jaccard_score. It will be removed in version 0.23. This implementation has surprising behavior for binary and multiclass classification tasks.\n",
      "  FutureWarning)\n"
     ]
    }
   ],
   "source": [
    "# Jaccard_similarity Score\n",
    "LR_J = jaccard_similarity_score(y_test,yhat_LR)\n",
    "\n",
    "# F1\n",
    "LR_f1 = f1_score(y_test,yhat_LR,average='weighted')\n",
    "\n",
    "# LogLoss\n",
    "LR_LogLoss=log_loss(y_test, yhat_prob)\n",
    "\n",
    "print('Jaccard Score=',LR_J)\n",
    "print('f1=',LR_f1)\n",
    "print('LogLoss=',LR_LogLoss)"
   ]
  },
  {
   "cell_type": "code",
   "execution_count": 22,
   "metadata": {},
   "outputs": [],
   "source": [
    "from sklearn.metrics import jaccard_similarity_score\n",
    "from sklearn.metrics import f1_score\n",
    "from sklearn.metrics import log_loss"
   ]
  },
  {
   "cell_type": "markdown",
   "metadata": {},
   "source": [
    "### Confusion Matrix"
   ]
  },
  {
   "cell_type": "code",
   "execution_count": 23,
   "metadata": {},
   "outputs": [],
   "source": [
    "from sklearn.metrics import classification_report, confusion_matrix\n",
    "import itertools\n",
    "def plot_confusion_matrix(cm, classes,\n",
    "                          normalize=False,\n",
    "                          title='Confusion matrix',\n",
    "                          cmap=plt.cm.Blues):\n",
    "    \"\"\"\n",
    "    This function prints and plots the confusion matrix.\n",
    "    Normalization can be applied by setting `normalize=True`.\n",
    "    \"\"\"\n",
    "    if normalize:\n",
    "        cm = cm.astype('float') / cm.sum(axis=1)[:, np.newaxis]\n",
    "        print(\"Normalized confusion matrix\")\n",
    "    else:\n",
    "        print('Confusion matrix, without normalization')\n",
    "\n",
    "    print(cm)\n",
    "\n",
    "    plt.imshow(cm, interpolation='nearest', cmap=cmap)\n",
    "    plt.title(title)\n",
    "    plt.colorbar()\n",
    "    tick_marks = np.arange(len(classes))\n",
    "    plt.xticks(tick_marks, classes, rotation=45)\n",
    "    plt.yticks(tick_marks, classes)\n",
    "\n",
    "    fmt = '.2f' if normalize else 'd'\n",
    "    thresh = cm.max() / 2.\n",
    "    for i, j in itertools.product(range(cm.shape[0]), range(cm.shape[1])):\n",
    "        plt.text(j, i, format(cm[i, j], fmt),\n",
    "                 horizontalalignment=\"center\",\n",
    "                 color=\"white\" if cm[i, j] > thresh else \"black\")\n",
    "\n",
    "    plt.tight_layout()\n",
    "    plt.ylabel('True label')\n",
    "    plt.xlabel('Predicted label')"
   ]
  },
  {
   "cell_type": "markdown",
   "metadata": {},
   "source": [
    "### KNN Matrix"
   ]
  },
  {
   "cell_type": "code",
   "execution_count": 24,
   "metadata": {},
   "outputs": [
    {
     "name": "stdout",
     "output_type": "stream",
     "text": [
      "              precision    recall  f1-score   support\n",
      "\n",
      "           1       0.58      0.71      0.64     11326\n",
      "           2       0.63      0.49      0.55     11428\n",
      "\n",
      "    accuracy                           0.60     22754\n",
      "   macro avg       0.60      0.60      0.59     22754\n",
      "weighted avg       0.60      0.60      0.59     22754\n",
      "\n",
      "Confusion matrix, without normalization\n",
      "[[8040 3286]\n",
      " [5875 5553]]\n"
     ]
    },
    {
     "data": {
      "image/png": "[encoded data removed]",
      "text/plain": [
       "<Figure size 432x288 with 2 Axes>"
      ]
     },
     "metadata": {
      "needs_background": "light"
     },
     "output_type": "display_data"
    }
   ],
   "source": [
    "# Compute confusion matrix\n",
    "cnf_matrix = confusion_matrix(y_test, yhat_knn, labels=[1,2])\n",
    "np.set_printoptions(precision=2)\n",
    "\n",
    "print (classification_report(y_test, yhat_knn))\n",
    "\n",
    "# Plot non-normalized confusion matrix\n",
    "plt.figure()\n",
    "plot_confusion_matrix(cnf_matrix, classes=['Property Damage (1)','Injury(2)'],normalize= False,  title='Confusion matrix')"
   ]
  },
  {
   "cell_type": "markdown",
   "metadata": {},
   "source": [
    "### Decision Tree Matrix"
   ]
  },
  {
   "cell_type": "code",
   "execution_count": 25,
   "metadata": {},
   "outputs": [
    {
     "name": "stdout",
     "output_type": "stream",
     "text": [
      "              precision    recall  f1-score   support\n",
      "\n",
      "           1       0.58      0.73      0.64     11326\n",
      "           2       0.64      0.47      0.54     11428\n",
      "\n",
      "    accuracy                           0.60     22754\n",
      "   macro avg       0.61      0.60      0.59     22754\n",
      "weighted avg       0.61      0.60      0.59     22754\n",
      "\n",
      "Confusion matrix, without normalization\n",
      "[[8256 3070]\n",
      " [6025 5403]]\n"
     ]
    },
    {
     "data": {
      "image/png": "[encoded data removed]",
      "text/plain": [
       "<Figure size 432x288 with 2 Axes>"
      ]
     },
     "metadata": {
      "needs_background": "light"
     },
     "output_type": "display_data"
    }
   ],
   "source": [
    "# Compute confusion matrix\n",
    "cnf_matrix = confusion_matrix(y_test, yhat_DT, labels=[1,2])\n",
    "np.set_printoptions(precision=2)\n",
    "\n",
    "print (classification_report(y_test, yhat_DT))\n",
    "\n",
    "# Plot non-normalized confusion matrix\n",
    "plt.figure()\n",
    "plot_confusion_matrix(cnf_matrix, classes=['Property Damage (1)','Injury(2)'],normalize= False,  title='Confusion matrix')"
   ]
  },
  {
   "cell_type": "markdown",
   "metadata": {},
   "source": [
    "### SVM Matrix\n"
   ]
  },
  {
   "cell_type": "code",
   "execution_count": 26,
   "metadata": {},
   "outputs": [
    {
     "name": "stdout",
     "output_type": "stream",
     "text": [
      "              precision    recall  f1-score   support\n",
      "\n",
      "           1       0.58      0.73      0.65     11326\n",
      "           2       0.64      0.47      0.54     11428\n",
      "\n",
      "    accuracy                           0.60     22754\n",
      "   macro avg       0.61      0.60      0.59     22754\n",
      "weighted avg       0.61      0.60      0.59     22754\n",
      "\n",
      "Confusion matrix, without normalization\n",
      "[[8293 3033]\n",
      " [6035 5393]]\n"
     ]
    },
    {
     "data": {
      "image/png": "[encoded data removed]",
      "text/plain": [
       "<Figure size 432x288 with 2 Axes>"
      ]
     },
     "metadata": {
      "needs_background": "light"
     },
     "output_type": "display_data"
    }
   ],
   "source": [
    "# Compute confusion matrix\n",
    "cnf_matrix = confusion_matrix(y_test, yhat_svm, labels=[1,2])\n",
    "np.set_printoptions(precision=2)\n",
    "\n",
    "print (classification_report(y_test, yhat_svm))\n",
    "\n",
    "# Plot non-normalized confusion matrix\n",
    "plt.figure()\n",
    "plot_confusion_matrix(cnf_matrix, classes=['Property Damage (1)','Injury(2)'],normalize= False,  title='Confusion matrix')"
   ]
  },
  {
   "cell_type": "markdown",
   "metadata": {},
   "source": [
    "### Logistic Regression"
   ]
  },
  {
   "cell_type": "code",
   "execution_count": 27,
   "metadata": {},
   "outputs": [
    {
     "name": "stdout",
     "output_type": "stream",
     "text": [
      "              precision    recall  f1-score   support\n",
      "\n",
      "           1       0.58      0.73      0.65     11326\n",
      "           2       0.64      0.47      0.54     11428\n",
      "\n",
      "    accuracy                           0.60     22754\n",
      "   macro avg       0.61      0.60      0.59     22754\n",
      "weighted avg       0.61      0.60      0.59     22754\n",
      "\n",
      "Confusion matrix, without normalization\n",
      "[[8304 3022]\n",
      " [6106 5322]]\n"
     ]
    },
    {
     "data": {
      "image/png": "[encoded data removed]",
      "text/plain": [
       "<Figure size 432x288 with 2 Axes>"
      ]
     },
     "metadata": {
      "needs_background": "light"
     },
     "output_type": "display_data"
    }
   ],
   "source": [
    "# Compute confusion matrix\n",
    "cnf_matrix = confusion_matrix(y_test, yhat_LR, labels=[1,2])\n",
    "np.set_printoptions(precision=2)\n",
    "\n",
    "print (classification_report(y_test, yhat_LR))\n",
    "\n",
    "# Plot non-normalized confusion matrix\n",
    "plt.figure()\n",
    "plot_confusion_matrix(cnf_matrix, classes=['Property Damage (1)','Injury(2)'],normalize= False,  title='Confusion matrix')"
   ]
  },
  {
   "cell_type": "code",
   "execution_count": null,
   "metadata": {},
   "outputs": [],
   "source": []
  }
 ],
 "metadata": {
  "kernelspec": {
   "display_name": "Python 3",
   "language": "python",
   "name": "python3"
  },
  "language_info": {
   "codemirror_mode": {
    "name": "ipython",
    "version": 3
   },
   "file_extension": ".py",
   "mimetype": "text/x-python",
   "name": "python",
   "nbconvert_exporter": "python",
   "pygments_lexer": "ipython3",
   "version": "3.7.6"
  }
 },
 "nbformat": 4,
 "nbformat_minor": 4
}
